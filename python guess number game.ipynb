{
 "cells": [
  {
   "cell_type": "code",
   "execution_count": 2,
   "metadata": {},
   "outputs": [
    {
     "name": "stdout",
     "output_type": "stream",
     "text": [
      "You got it!\n",
      "You got it in 1 guesses\n"
     ]
    }
   ],
   "source": [
    "import random \n",
    "top_of_range = input(\"Type a number: \")\n",
    "if top_of_range.isdigit():\n",
    "    top_of_range = int(top_of_range)\n",
    "    if top_of_range <= 0:\n",
    "        print(\"Please type a number larger than 0 next time.\")\n",
    "        quit()\n",
    "else:\n",
    "    print(\"Please type a number next time.\")\n",
    "    quit()\n",
    "random_number = random.randint(0, top_of_range)\n",
    "guesses = 0\n",
    "while True:\n",
    "    guesses += 1\n",
    "    user_guess = input(\"Make a guess\") \n",
    "    if user_guess.isdigit():\n",
    "        user_guess = int(user_guess) \n",
    "    else:\n",
    "        print(\"Please type a number next time\") \n",
    "        continue \n",
    "    if user_guess == random_number:\n",
    "        print(\"You got it!\")\n",
    "        break\n",
    "    elif user_guess > random_number:\n",
    "        print(\"You were above the number!\") \n",
    "    else:\n",
    "        print(\"You were below the number!\") \n",
    "print(\"You got it in\", guesses, \"guesses\")              \n"
   ]
  }
 ],
 "metadata": {
  "kernelspec": {
   "display_name": "base",
   "language": "python",
   "name": "python3"
  },
  "language_info": {
   "codemirror_mode": {
    "name": "ipython",
    "version": 3
   },
   "file_extension": ".py",
   "mimetype": "text/x-python",
   "name": "python",
   "nbconvert_exporter": "python",
   "pygments_lexer": "ipython3",
   "version": "3.11.3"
  },
  "orig_nbformat": 4
 },
 "nbformat": 4,
 "nbformat_minor": 2
}
